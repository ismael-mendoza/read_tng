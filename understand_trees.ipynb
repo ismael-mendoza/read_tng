{
 "cells": [
  {
   "cell_type": "code",
   "execution_count": 1,
   "id": "5a9a3489-084c-46cb-8c0d-46e98cfbe562",
   "metadata": {},
   "outputs": [],
   "source": [
    "import numpy as np\n",
    "import pickle\n",
    "import matplotlib.pyplot as plt\n",
    "from tqdm import tqdm"
   ]
  },
  {
   "cell_type": "code",
   "execution_count": 2,
   "id": "663291b7-dff7-4697-ac12-a2be6ea37f3c",
   "metadata": {},
   "outputs": [],
   "source": [
    "bbar = pickle.load(open(\"./cache/tng50_bbar.pkl\", \"rb\"))\n",
    "tbar = pickle.load(open(\"./cache/tng50_tbar.pkl\", \"rb\"))\n",
    "bdmo = pickle.load(open(\"./cache/tng50_bdmo.pkl\", \"rb\"))\n",
    "tdmo = pickle.load(open(\"./cache/tng50_tdmo.pkl\", \"rb\") )\n",
    "matches = pickle.load(open(\"./cache/matches_tng50.pkl\", \"rb\") )"
   ]
  },
  {
   "cell_type": "code",
   "execution_count": 66,
   "id": "45e1a82c-3916-44b8-b066-bd74abb11255",
   "metadata": {},
   "outputs": [
    {
     "data": {
      "text/plain": [
       "array([(100, 1.4952888e+14, 1.4952888e+14, False),\n",
       "       (100, 9.5711872e+08, 9.5711872e+08, False),\n",
       "       (100, 9.3377434e+08, 9.3377434e+08, False), ...,\n",
       "       (100, 7.4701952e+08, 7.4701952e+08, False),\n",
       "       (100, 5.6026464e+08, 5.6026464e+08, False),\n",
       "       (100, 0.0000000e+00, 0.0000000e+00,  True)],\n",
       "      dtype=[('infall_snap', '<i4'), ('mpeak', '<f4'), ('mpeak_pre', '<f4'), ('is_err', '?')])"
      ]
     },
     "execution_count": 66,
     "metadata": {},
     "output_type": "execute_result"
    }
   ],
   "source": [
    "bdmo"
   ]
  },
  {
   "cell_type": "code",
   "execution_count": 3,
   "id": "3f0d7533-a002-463e-bf67-c2466dde75cb",
   "metadata": {},
   "outputs": [
    {
     "data": {
      "text/plain": [
       "(813083, 760824, 813083, (760824, 100))"
      ]
     },
     "execution_count": 3,
     "metadata": {},
     "output_type": "execute_result"
    }
   ],
   "source": [
    "len(matches), len(tdmo), len(tbar), tdmo['mvir'].shape, "
   ]
  },
  {
   "cell_type": "code",
   "execution_count": 43,
   "id": "381ad70b-71a2-42cf-bba6-c745fb2ad4ee",
   "metadata": {},
   "outputs": [],
   "source": [
    "# idx_cut, = np.where(np.log10(bdmo['mpeak_pre']) > 11.8)\n",
    "# ii = np.random.choice(idx_cut)\n",
    "\n",
    "# np.log10(tdmo['mvir'][:,-1][ii]), np.log10(bdmo['mpeak_pre'][ii])"
   ]
  },
  {
   "cell_type": "code",
   "execution_count": 5,
   "id": "9c6cc6e0-4328-4726-9fab-25d6d91ef5e7",
   "metadata": {},
   "outputs": [],
   "source": [
    "# subfind_id_z0 = tdmo['subfind_id'][:,-1]\n",
    "# subfind_id_z0[subfind_id_z0!=-1]"
   ]
  },
  {
   "cell_type": "code",
   "execution_count": 47,
   "id": "fa8e5589-c72b-4b2e-a747-9b275ac86b42",
   "metadata": {
    "tags": []
   },
   "outputs": [
    {
     "name": "stderr",
     "output_type": "stream",
     "text": [
      "100%|██████████| 813083/813083 [00:10<00:00, 75903.58it/s] \n"
     ]
    }
   ],
   "source": [
    "# extract haloes and MAHs within given present-day mass range\n",
    "# with no errors, exist in present day and matches with DMO \n",
    "mah_dmo = [] \n",
    "mah_bar = []\n",
    "dmo_id = [] \n",
    "bar_id = []\n",
    "\n",
    "# questions: \n",
    "\n",
    "for ii in tqdm(range(len(tbar))):\n",
    "    match = matches[ii]\n",
    "    if match != -1: \n",
    "        \n",
    "        # TODO: TAKE mah upto infall snap and keep it constant after \n",
    "        \n",
    "        ok_dmo = ~bdmo['is_err'][match]\n",
    "        ok_bar = ~bbar['is_err'][ii]\n",
    "        \n",
    "        mvir_dmo = tdmo['mdm'][match]\n",
    "        mvir_bar = tbar['mdm'][ii]\n",
    "        assert mvir_dmo.shape == (100,)\n",
    "        dmo_mah = np.log10(mvir_dmo, out=np.zeros_like(mvir_dmo), where=(mvir_dmo!=0))\n",
    "        bar_mah = np.log10(mvir_bar, out=np.zeros_like(mvir_bar), where=(mvir_bar!=0))\n",
    "\n",
    "        # extract id (present)\n",
    "        dmo_subfind_id = tdmo['subfind_id'][match, -1]\n",
    "        bar_subfind_id = tbar['subfind_id'][ii, -1]\n",
    "\n",
    "        \n",
    "        # should also check if halo exists in present day\n",
    "        mpeak_pre_dmo = np.log10(bdmo['mpeak_pre'][match])\n",
    "        mpeak_pre_bar = np.log10(bbar['mpeak_pre'][ii])\n",
    "        \n",
    "        is_cut_dmo = (mpeak_pre_dmo > 11) & ( mpeak_pre_dmo < 12) & (tdmo['mvir'][match,-1] > 0)\n",
    "        is_cut_bar = (mpeak_pre_bar > 11) & ( mpeak_pre_bar < 12) & (tbar['mvir'][ii,-1] > 0)\n",
    "        \n",
    "        if ok_dmo & is_cut_dmo & ok_bar & is_cut_bar:\n",
    "            mah_dmo.append(dmo_mah)\n",
    "            mah_bar.append(bar_mah)\n",
    "            dmo_id.append(dmo_subfind_id)\n",
    "            bar_id.append(bar_subfind_id)\n",
    "\n"
   ]
  },
  {
   "cell_type": "code",
   "execution_count": 46,
   "id": "54bc95ad-e5b0-4bde-b7cd-ea56772b3b23",
   "metadata": {},
   "outputs": [
    {
     "data": {
      "text/plain": [
       "array([[(0.       , 0.0000000e+00, [    0.    ,     0.    ,     0.    ],   0.     , [    0.    ,     0.    ,     0.    ], 0.0000000e+00, 0., 0.0000000e+00, 0., -1, False, 0, False),\n",
       "        (0.       , 0.0000000e+00, [    0.    ,     0.    ,     0.    ],   0.     , [    0.    ,     0.    ,     0.    ], 0.0000000e+00, 0., 0.0000000e+00, 0., -1, False, 0, False),\n",
       "        (0.       , 0.0000000e+00, [    0.    ,     0.    ,     0.    ],   0.     , [    0.    ,     0.    ,     0.    ], 0.0000000e+00, 0., 0.0000000e+00, 0., -1, False, 0, False),\n",
       "        ...,\n",
       "        (1.0877997, 1.4884083e+14, [ 7309.634 , 24567.184 , 21322.438 ], 864.9844 , [ 7309.634 , 24567.184 , 21322.438 ], 1.2042545e+14, 0., 1.2042545e+14, 0.,  0, False, 0,  True),\n",
       "        (1.0859094, 1.5058102e+14, [ 7308.2515, 24563.168 , 21311.865 ], 868.93256, [ 7308.2515, 24563.168 , 21311.865 ], 1.2032505e+14, 0., 1.2032505e+14, 0.,  0, False, 0,  True),\n",
       "        (1.0828183, 1.5105009e+14, [ 7306.8   , 24560.562 , 21305.295 ], 872.68225, [ 7306.8   , 24560.562 , 21305.295 ], 1.2044457e+14, 0., 1.2044457e+14, 0.,  0, False, 0,  True)],\n",
       "       [(0.       , 0.0000000e+00, [    0.    ,     0.    ,     0.    ],   0.     , [    0.    ,     0.    ,     0.    ], 0.0000000e+00, 0., 0.0000000e+00, 0., -1, False, 0, False),\n",
       "        (0.       , 0.0000000e+00, [    0.    ,     0.    ,     0.    ],   0.     , [    0.    ,     0.    ,     0.    ], 0.0000000e+00, 0., 0.0000000e+00, 0., -1, False, 0, False),\n",
       "        (0.       , 0.0000000e+00, [    0.    ,     0.    ,     0.    ],   0.     , [    0.    ,     0.    ,     0.    ], 0.0000000e+00, 0., 0.0000000e+00, 0., -1, False, 0, False),\n",
       "        ...,\n",
       "        (0.       , 0.0000000e+00, [    0.    ,     0.    ,     0.    ],   0.     , [    0.    ,     0.    ,     0.    ], 0.0000000e+00, 0., 0.0000000e+00, 0., -1, False, 0, False),\n",
       "        (0.       , 0.0000000e+00, [    0.    ,     0.    ,     0.    ],   0.     , [    0.    ,     0.    ,     0.    ], 0.0000000e+00, 0., 0.0000000e+00, 0., -1, False, 0, False),\n",
       "        (0.       , 0.0000000e+00, [    0.    ,     0.    ,     0.    ],   0.     , [    0.    ,     0.    ,     0.    ], 0.0000000e+00, 0., 0.0000000e+00, 0., -1, False, 0, False)],\n",
       "       [(0.       , 0.0000000e+00, [    0.    ,     0.    ,     0.    ],   0.     , [    0.    ,     0.    ,     0.    ], 0.0000000e+00, 0., 0.0000000e+00, 0., -1, False, 0, False),\n",
       "        (0.       , 0.0000000e+00, [    0.    ,     0.    ,     0.    ],   0.     , [    0.    ,     0.    ,     0.    ], 0.0000000e+00, 0., 0.0000000e+00, 0., -1, False, 0, False),\n",
       "        (0.       , 0.0000000e+00, [    0.    ,     0.    ,     0.    ],   0.     , [    0.    ,     0.    ,     0.    ], 0.0000000e+00, 0., 0.0000000e+00, 0., -1, False, 0, False),\n",
       "        ...,\n",
       "        (0.       , 0.0000000e+00, [    0.    ,     0.    ,     0.    ],   0.     , [    0.    ,     0.    ,     0.    ], 0.0000000e+00, 0., 0.0000000e+00, 0., -1, False, 0, False),\n",
       "        (0.       , 0.0000000e+00, [    0.    ,     0.    ,     0.    ],   0.     , [    0.    ,     0.    ,     0.    ], 0.0000000e+00, 0., 0.0000000e+00, 0., -1, False, 0, False),\n",
       "        (0.       , 0.0000000e+00, [    0.    ,     0.    ,     0.    ],   0.     , [    0.    ,     0.    ,     0.    ], 0.0000000e+00, 0., 0.0000000e+00, 0., -1, False, 0, False)],\n",
       "       ...,\n",
       "       [(0.       , 0.0000000e+00, [    0.    ,     0.    ,     0.    ],   0.     , [    0.    ,     0.    ,     0.    ], 0.0000000e+00, 0., 0.0000000e+00, 0., -1, False, 0, False),\n",
       "        (0.       , 0.0000000e+00, [    0.    ,     0.    ,     0.    ],   0.     , [    0.    ,     0.    ,     0.    ], 0.0000000e+00, 0., 0.0000000e+00, 0., -1, False, 0, False),\n",
       "        (0.       , 0.0000000e+00, [    0.    ,     0.    ,     0.    ],   0.     , [    0.    ,     0.    ,     0.    ], 0.0000000e+00, 0., 0.0000000e+00, 0., -1, False, 0, False),\n",
       "        ...,\n",
       "        (0.       , 0.0000000e+00, [    0.    ,     0.    ,     0.    ],   0.     , [    0.    ,     0.    ,     0.    ], 0.0000000e+00, 0., 0.0000000e+00, 0., -1, False, 0, False),\n",
       "        (0.       , 0.0000000e+00, [    0.    ,     0.    ,     0.    ],   0.     , [    0.    ,     0.    ,     0.    ], 0.0000000e+00, 0., 0.0000000e+00, 0., -1, False, 0, False),\n",
       "        (0.       , 0.0000000e+00, [    0.    ,     0.    ,     0.    ],   0.     , [    0.    ,     0.    ,     0.    ], 0.0000000e+00, 0., 0.0000000e+00, 0., -1, False, 0, False)],\n",
       "       [(0.       , 0.0000000e+00, [    0.    ,     0.    ,     0.    ],   0.     , [    0.    ,     0.    ,     0.    ], 0.0000000e+00, 0., 0.0000000e+00, 0., -1, False, 0, False),\n",
       "        (0.       , 0.0000000e+00, [    0.    ,     0.    ,     0.    ],   0.     , [    0.    ,     0.    ,     0.    ], 0.0000000e+00, 0., 0.0000000e+00, 0., -1, False, 0, False),\n",
       "        (0.       , 0.0000000e+00, [    0.    ,     0.    ,     0.    ],   0.     , [    0.    ,     0.    ,     0.    ], 0.0000000e+00, 0., 0.0000000e+00, 0., -1, False, 0, False),\n",
       "        ...,\n",
       "        (0.       , 0.0000000e+00, [    0.    ,     0.    ,     0.    ],   0.     , [    0.    ,     0.    ,     0.    ], 0.0000000e+00, 0., 0.0000000e+00, 0., -1, False, 0, False),\n",
       "        (0.       , 0.0000000e+00, [    0.    ,     0.    ,     0.    ],   0.     , [    0.    ,     0.    ,     0.    ], 0.0000000e+00, 0., 0.0000000e+00, 0., -1, False, 0, False),\n",
       "        (0.       , 0.0000000e+00, [    0.    ,     0.    ,     0.    ],   0.     , [    0.    ,     0.    ,     0.    ], 0.0000000e+00, 0., 0.0000000e+00, 0., -1, False, 0, False)],\n",
       "       [(0.       , 0.0000000e+00, [    0.    ,     0.    ,     0.    ],   0.     , [    0.    ,     0.    ,     0.    ], 0.0000000e+00, 0., 0.0000000e+00, 0., -1, False, 0, False),\n",
       "        (0.       , 0.0000000e+00, [    0.    ,     0.    ,     0.    ],   0.     , [    0.    ,     0.    ,     0.    ], 0.0000000e+00, 0., 0.0000000e+00, 0., -1, False, 0, False),\n",
       "        (0.       , 0.0000000e+00, [    0.    ,     0.    ,     0.    ],   0.     , [    0.    ,     0.    ,     0.    ], 0.0000000e+00, 0., 0.0000000e+00, 0., -1, False, 0, False),\n",
       "        ...,\n",
       "        (0.       , 0.0000000e+00, [    0.    ,     0.    ,     0.    ],   0.     , [    0.    ,     0.    ,     0.    ], 0.0000000e+00, 0., 0.0000000e+00, 0., -1, False, 0, False),\n",
       "        (0.       , 0.0000000e+00, [    0.    ,     0.    ,     0.    ],   0.     , [    0.    ,     0.    ,     0.    ], 0.0000000e+00, 0., 0.0000000e+00, 0., -1, False, 0, False),\n",
       "        (0.       , 0.0000000e+00, [    0.    ,     0.    ,     0.    ],   0.     , [    0.    ,     0.    ,     0.    ], 0.0000000e+00, 0., 0.0000000e+00, 0., -1, False, 0, False)]],\n",
       "      dtype=[('rvir', '<f4'), ('mvir', '<f4'), ('group_x', '<f4', (3,)), ('vmax', '<f4'), ('x', '<f4', (3,)), ('mdm', '<f4'), ('mstar', '<f4'), ('rhalf_dm', '<f4'), ('rhalf_star', '<f4'), ('subfind_id', '<i8'), ('is_sub', '?'), ('first_sub_idx', '<i8'), ('ok', '?')])"
      ]
     },
     "execution_count": 46,
     "metadata": {},
     "output_type": "execute_result"
    }
   ],
   "source": [
    "tbar"
   ]
  },
  {
   "cell_type": "code",
   "execution_count": 49,
   "id": "07e1d5d6-fb03-49d3-9d82-150c5ec35d44",
   "metadata": {},
   "outputs": [
    {
     "data": {
      "text/plain": [
       "((1406, 100), (1406, 100), (1406,), (1406,))"
      ]
     },
     "execution_count": 49,
     "metadata": {},
     "output_type": "execute_result"
    }
   ],
   "source": [
    "# stack them into arrays\n",
    "_mah_dmo = np.concatenate([m.reshape(1, 100) for m in mah_dmo], axis=0)\n",
    "_mah_bar = np.concatenate([m.reshape(1, 100) for m in mah_bar], axis=0)\n",
    "_dmo_id = np.array(dmo_id)\n",
    "_bar_id = np.array(bar_id)\n",
    "\n",
    "_mah_dmo.shape, _mah_bar.shape, _dmo_id.shape, _bar_id.shape"
   ]
  },
  {
   "cell_type": "code",
   "execution_count": 62,
   "id": "a00c020a-6ca0-4e49-ac89-c9df106caacf",
   "metadata": {},
   "outputs": [
    {
     "data": {
      "image/png": "[encoded data removed]",
      "text/plain": [
       "<Figure size 640x480 with 1 Axes>"
      ]
     },
     "metadata": {},
     "output_type": "display_data"
    }
   ],
   "source": [
    "# plot some random trees\n",
    "indices = np.random.choice(list(range(len(_mah_dmo))), size=10)\n",
    "for t in _mah_dmo[indices]:\n",
    "    plt.plot(t)\n",
    "\n",
    "# NOTES\n",
    "# * snapshots thart are valid are those with non-zero mass (subfind has problem where it can miss a snapshot)\n",
    "# * mass switches -->>> sudden rises, halo falls into a much larger halo and could become a splashback halo, in the next snapshot the central \n",
    "# host mass jump at merger time, could be Group_M_Top_Hat200; or mass switches\n",
    "# * what is the mass used? \n",
    "# 'mvir' -> group mass \n",
    "# 'mdm' -> subhalo mass\n",
    "# 'mpeak_pre' -> calculate from mvir ; prior to infall\n",
    "\n",
    "# keep mpeak what it was before infall\n",
    "# TODO: remove snapshots from trees where it falls to 0 or interpolate"
   ]
  },
  {
   "cell_type": "code",
   "execution_count": 12,
   "id": "d945971d-c2a5-4b85-adba-3811c56ed549",
   "metadata": {},
   "outputs": [],
   "source": [
    "# read tng snapshots\n",
    "snap1= \"../read_tng/data/TNG50_3/snapshot/snap_099.0.hdf5\""
   ]
  },
  {
   "cell_type": "code",
   "execution_count": 15,
   "id": "58a69f6e-aafd-42de-94bf-b95b348ee3b3",
   "metadata": {},
   "outputs": [],
   "source": [
    "import h5py\n",
    "f = h5py.File(snap1,'r')"
   ]
  },
  {
   "cell_type": "code",
   "execution_count": 30,
   "id": "a6edd493-6366-40a0-a3e3-8fe4ee898929",
   "metadata": {},
   "outputs": [
    {
     "data": {
      "text/plain": [
       "<KeysViewHDF5 ['Config', 'Header', 'Parameters', 'PartType0', 'PartType1', 'PartType3', 'PartType4', 'PartType5']>"
      ]
     },
     "execution_count": 30,
     "metadata": {},
     "output_type": "execute_result"
    }
   ],
   "source": [
    "f.keys()"
   ]
  },
  {
   "cell_type": "code",
   "execution_count": 42,
   "id": "f532b49e-b6fe-4356-a8a1-7b8dc619d025",
   "metadata": {},
   "outputs": [
    {
     "data": {
      "text/plain": [
       "<HDF5 group \"/Header\" (0 members)>"
      ]
     },
     "execution_count": 42,
     "metadata": {},
     "output_type": "execute_result"
    }
   ],
   "source": [
    "f['Header']"
   ]
  },
  {
   "cell_type": "code",
   "execution_count": 13,
   "id": "39983a22-9d16-4ce9-95f1-eb93c35c7b14",
   "metadata": {},
   "outputs": [
    {
     "ename": "ValueError",
     "evalue": "no table found in HDF5 group None",
     "output_type": "error",
     "traceback": [
      "\u001b[0;31m---------------------------------------------------------------------------\u001b[0m",
      "\u001b[0;31mValueError\u001b[0m                                Traceback (most recent call last)",
      "Cell \u001b[0;32mIn[13], line 2\u001b[0m\n\u001b[1;32m      1\u001b[0m \u001b[38;5;28;01mfrom\u001b[39;00m \u001b[38;5;21;01mastropy\u001b[39;00m\u001b[38;5;21;01m.\u001b[39;00m\u001b[38;5;21;01mio\u001b[39;00m\u001b[38;5;21;01m.\u001b[39;00m\u001b[38;5;21;01mmisc\u001b[39;00m\u001b[38;5;21;01m.\u001b[39;00m\u001b[38;5;21;01mhdf5\u001b[39;00m \u001b[38;5;28;01mimport\u001b[39;00m read_table_hdf5\n\u001b[0;32m----> 2\u001b[0m \u001b[43mread_table_hdf5\u001b[49m\u001b[43m(\u001b[49m\u001b[43msnap1\u001b[49m\u001b[43m)\u001b[49m\n",
      "File \u001b[0;32m/sw/pkgs/arc/python3.10-anaconda/2023.03/lib/python3.10/site-packages/astropy/io/misc/hdf5.py:143\u001b[0m, in \u001b[0;36mread_table_hdf5\u001b[0;34m(input, path, character_as_bytes)\u001b[0m\n\u001b[1;32m    140\u001b[0m f \u001b[38;5;241m=\u001b[39m h5py\u001b[38;5;241m.\u001b[39mFile(\u001b[38;5;28minput\u001b[39m, \u001b[38;5;124m'\u001b[39m\u001b[38;5;124mr\u001b[39m\u001b[38;5;124m'\u001b[39m)\n\u001b[1;32m    142\u001b[0m \u001b[38;5;28;01mtry\u001b[39;00m:\n\u001b[0;32m--> 143\u001b[0m     \u001b[38;5;28;01mreturn\u001b[39;00m \u001b[43mread_table_hdf5\u001b[49m\u001b[43m(\u001b[49m\u001b[43mf\u001b[49m\u001b[43m,\u001b[49m\u001b[43m \u001b[49m\u001b[43mpath\u001b[49m\u001b[38;5;241;43m=\u001b[39;49m\u001b[43mpath\u001b[49m\u001b[43m,\u001b[49m\u001b[43m \u001b[49m\u001b[43mcharacter_as_bytes\u001b[49m\u001b[38;5;241;43m=\u001b[39;49m\u001b[43mcharacter_as_bytes\u001b[49m\u001b[43m)\u001b[49m\n\u001b[1;32m    144\u001b[0m \u001b[38;5;28;01mfinally\u001b[39;00m:\n\u001b[1;32m    145\u001b[0m     f\u001b[38;5;241m.\u001b[39mclose()\n",
      "File \u001b[0;32m/sw/pkgs/arc/python3.10-anaconda/2023.03/lib/python3.10/site-packages/astropy/io/misc/hdf5.py:116\u001b[0m, in \u001b[0;36mread_table_hdf5\u001b[0;34m(input, path, character_as_bytes)\u001b[0m\n\u001b[1;32m    113\u001b[0m arrays \u001b[38;5;241m=\u001b[39m _find_all_structured_arrays(\u001b[38;5;28minput\u001b[39m)\n\u001b[1;32m    115\u001b[0m \u001b[38;5;28;01mif\u001b[39;00m \u001b[38;5;28mlen\u001b[39m(arrays) \u001b[38;5;241m==\u001b[39m \u001b[38;5;241m0\u001b[39m:\n\u001b[0;32m--> 116\u001b[0m     \u001b[38;5;28;01mraise\u001b[39;00m \u001b[38;5;167;01mValueError\u001b[39;00m(\u001b[38;5;124mf\u001b[39m\u001b[38;5;124m\"\u001b[39m\u001b[38;5;124mno table found in HDF5 group \u001b[39m\u001b[38;5;132;01m{\u001b[39;00mpath\u001b[38;5;132;01m}\u001b[39;00m\u001b[38;5;124m\"\u001b[39m)\n\u001b[1;32m    117\u001b[0m \u001b[38;5;28;01melif\u001b[39;00m \u001b[38;5;28mlen\u001b[39m(arrays) \u001b[38;5;241m>\u001b[39m \u001b[38;5;241m0\u001b[39m:\n\u001b[1;32m    118\u001b[0m     path \u001b[38;5;241m=\u001b[39m arrays[\u001b[38;5;241m0\u001b[39m] \u001b[38;5;28;01mif\u001b[39;00m path \u001b[38;5;129;01mis\u001b[39;00m \u001b[38;5;28;01mNone\u001b[39;00m \u001b[38;5;28;01melse\u001b[39;00m path \u001b[38;5;241m+\u001b[39m \u001b[38;5;124m'\u001b[39m\u001b[38;5;124m/\u001b[39m\u001b[38;5;124m'\u001b[39m \u001b[38;5;241m+\u001b[39m arrays[\u001b[38;5;241m0\u001b[39m]\n",
      "\u001b[0;31mValueError\u001b[0m: no table found in HDF5 group None"
     ]
    }
   ],
   "source": [
    "from astropy.io.misc.hdf5 import read_table_hdf5\n",
    "read_table_hdf5(snap1)"
   ]
  },
  {
   "cell_type": "code",
   "execution_count": null,
   "id": "ed0abd9d-edb1-4a2d-bdfe-ee9dba3100aa",
   "metadata": {},
   "outputs": [],
   "source": [
    "Table.re"
   ]
  },
  {
   "cell_type": "code",
   "execution_count": 56,
   "id": "53ea3a17-ed3f-4a30-8116-c1fbba946ad9",
   "metadata": {},
   "outputs": [
    {
     "data": {
      "text/plain": [
       "145"
      ]
     },
     "execution_count": 58,
     "metadata": {},
     "output_type": "execute_result"
    }
   ],
   "source": [
    "len(dmo_id)"
   ]
  },
  {
   "cell_type": "code",
   "execution_count": 52,
   "id": "e1a0526c-0e1d-4c24-ac74-5d33238ad2b2",
   "metadata": {},
   "outputs": [
    {
     "data": {
      "text/plain": [
       "(307653, 813083)"
      ]
     },
     "execution_count": 52,
     "metadata": {},
     "output_type": "execute_result"
    }
   ],
   "source": [
    "sum(matches!=-1), len(matches)"
   ]
  },
  {
   "cell_type": "code",
   "execution_count": 45,
   "id": "17f3929e-c1dd-48af-8a50-b03dbb66d69c",
   "metadata": {},
   "outputs": [
    {
     "name": "stderr",
     "output_type": "stream",
     "text": [
      "/tmp/ipykernel_1143108/3116376147.py:2: RuntimeWarning: divide by zero encountered in log10\n",
      "  sum((mvir>0) & (np.log10(bdmo['mpeak_pre']) > 11) & (np.log10(bdmo['mpeak_pre']) < 12) & (~bdmo['is_err']))\n"
     ]
    },
    {
     "data": {
      "text/plain": [
       "1795"
      ]
     },
     "execution_count": 45,
     "metadata": {},
     "output_type": "execute_result"
    }
   ],
   "source": [
    "mvir = tdmo['mvir'][:, -1]\n",
    "sum((mvir>0) & (np.log10(bdmo['mpeak_pre']) > 11) & (np.log10(bdmo['mpeak_pre']) < 12) & (~bdmo['is_err']))"
   ]
  },
  {
   "cell_type": "code",
   "execution_count": 53,
   "id": "1cc239d7-b98e-4239-9941-f41140d3671c",
   "metadata": {},
   "outputs": [
    {
     "name": "stderr",
     "output_type": "stream",
     "text": [
      "/tmp/ipykernel_1143108/959766558.py:2: RuntimeWarning: divide by zero encountered in log10\n",
      "  sum((mvir>0) & (np.log10(bbar['mpeak_pre']) > 11) & (np.log10(bbar['mpeak_pre']) < 12) & (~bbar['is_err']) &(matches!=-1))\n"
     ]
    },
    {
     "data": {
      "text/plain": [
       "1538"
      ]
     },
     "execution_count": 53,
     "metadata": {},
     "output_type": "execute_result"
    }
   ],
   "source": [
    "mvir = tbar['mvir'][:, -1]\n",
    "sum((mvir>0) & (np.log10(bbar['mpeak_pre']) > 11) & (np.log10(bbar['mpeak_pre']) < 12) & (~bbar['is_err']) &(matches!=-1))"
   ]
  },
  {
   "cell_type": "code",
   "execution_count": 8,
   "id": "32e296f6-3659-4db8-96a4-b3fe3d6f4f3a",
   "metadata": {},
   "outputs": [],
   "source": [
    "host_bar = np.argmax(bbar[\"mpeak\"])\n"
   ]
  },
  {
   "cell_type": "code",
   "execution_count": 11,
   "id": "72201bea-7c87-4624-9a64-c2a3bc0dd392",
   "metadata": {},
   "outputs": [
    {
     "data": {
      "text/plain": [
       "(813083,)"
      ]
     },
     "execution_count": 11,
     "metadata": {},
     "output_type": "execute_result"
    }
   ],
   "source": [
    "bbar['mpeak'].shape"
   ]
  },
  {
   "cell_type": "code",
   "execution_count": 7,
   "id": "c166d310-80ed-488a-8819-42ff263526e3",
   "metadata": {},
   "outputs": [
    {
     "data": {
      "text/plain": [
       "((760824,), (760824, 100), (813083,), (813083,), (813083, 100))"
      ]
     },
     "execution_count": 7,
     "metadata": {},
     "output_type": "execute_result"
    }
   ],
   "source": [
    "bdmo['mpeak_pre'].shape, tdmo['mvir'].shape, matches.shape, bbar['mpeak_pre'].shape, tbar['mvir'].shape"
   ]
  },
  {
   "cell_type": "code",
   "execution_count": 6,
   "id": "da4dbf04-7721-4813-960d-df811b159ede",
   "metadata": {},
   "outputs": [
    {
     "data": {
      "text/plain": [
       "array([6841,   -1,   -1, ...,   -1,   -1,   -1])"
      ]
     },
     "execution_count": 6,
     "metadata": {},
     "output_type": "execute_result"
    }
   ],
   "source": [
    "matches"
   ]
  },
  {
   "cell_type": "code",
   "execution_count": 35,
   "id": "3bb42e13-8e63-40aa-936a-aa019390e689",
   "metadata": {},
   "outputs": [
    {
     "data": {
      "text/plain": [
       "(100,)"
      ]
     },
     "execution_count": 35,
     "metadata": {},
     "output_type": "execute_result"
    }
   ],
   "source": [
    "tdmo['mvir'][10].shape"
   ]
  },
  {
   "cell_type": "code",
   "execution_count": 37,
   "id": "f790595c-5b7f-4583-bad4-9927411f0be5",
   "metadata": {},
   "outputs": [
    {
     "name": "stderr",
     "output_type": "stream",
     "text": [
      "/tmp/ipykernel_1886444/4269425887.py:1: RuntimeWarning: divide by zero encountered in log10\n",
      "  plt.plot(np.log10(tdmo['mvir'][200]))\n"
     ]
    },
    {
     "data": {
      "text/plain": [
       "[<matplotlib.lines.Line2D at 0x1490d0f5b790>]"
      ]
     },
     "execution_count": 37,
     "metadata": {},
     "output_type": "execute_result"
    },
    {
     "data": {
      "image/png": "[encoded data removed]",
      "text/plain": [
       "<Figure size 640x480 with 1 Axes>"
      ]
     },
     "metadata": {},
     "output_type": "display_data"
    }
   ],
   "source": [
    "plt.plot(np.log10(tdmo['mvir'][200]))"
   ]
  },
  {
   "cell_type": "code",
   "execution_count": 15,
   "id": "76e26e24-4bd2-4a0a-a5eb-6fb74e6a97e7",
   "metadata": {},
   "outputs": [],
   "source": [
    "mpeak_pre = bdmo['mpeak_pre'] "
   ]
  },
  {
   "cell_type": "code",
   "execution_count": 30,
   "id": "ecb701c7-0e4a-43c0-8ab1-ded7e27eb4e9",
   "metadata": {},
   "outputs": [
    {
     "data": {
      "image/png": "[encoded data removed]",
      "text/plain": [
       "<Figure size 640x480 with 1 Axes>"
      ]
     },
     "metadata": {},
     "output_type": "display_data"
    }
   ],
   "source": [
    "_mpeak_pre = np.log10(mpeak_pre[mpeak_pre > 0])\n",
    "plt.hist(_mpeak_pre)\n",
    "plt.yscale('log')"
   ]
  },
  {
   "cell_type": "code",
   "execution_count": 26,
   "id": "3019e66d-413c-42f8-b58b-a7b529289ea0",
   "metadata": {},
   "outputs": [
    {
     "data": {
      "text/plain": [
       "513575904.0"
      ]
     },
     "execution_count": 26,
     "metadata": {},
     "output_type": "execute_result"
    }
   ],
   "source": [
    "np.percentile(mpeak_pre, 20)"
   ]
  },
  {
   "cell_type": "code",
   "execution_count": null,
   "id": "99f6e184-b882-4aa2-b05a-5f1c8f68d1f9",
   "metadata": {},
   "outputs": [],
   "source": []
  }
 ],
 "metadata": {
  "kernelspec": {
   "display_name": "Python 3 (ipykernel)",
   "language": "python",
   "name": "python3"
  },
  "language_info": {
   "codemirror_mode": {
    "name": "ipython",
    "version": 3
   },
   "file_extension": ".py",
   "mimetype": "text/x-python",
   "name": "python",
   "nbconvert_exporter": "python",
   "pygments_lexer": "ipython3",
   "version": "3.10.9"
  }
 },
 "nbformat": 4,
 "nbformat_minor": 5
}
