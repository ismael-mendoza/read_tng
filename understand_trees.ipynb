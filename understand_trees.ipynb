{
 "cells": [
  {
   "cell_type": "code",
   "execution_count": 1,
   "id": "5a9a3489-084c-46cb-8c0d-46e98cfbe562",
   "metadata": {},
   "outputs": [],
   "source": [
    "import numpy as np\n",
    "import pickle\n",
    "import matplotlib.pyplot as plt\n",
    "from tqdm import tqdm"
   ]
  },
  {
   "cell_type": "markdown",
   "id": "7f2f968d-57ce-48e3-8048-f878ab92084e",
   "metadata": {},
   "source": [
    "# Load data"
   ]
  },
  {
   "cell_type": "code",
   "execution_count": 40,
   "id": "663291b7-dff7-4697-ac12-a2be6ea37f3c",
   "metadata": {},
   "outputs": [],
   "source": [
    "bbar = pickle.load(open(\"./cache/tng100_bbar.pkl\", \"rb\"))\n",
    "tbar = pickle.load(open(\"./cache/tng100_tbar.pkl\", \"rb\"))\n",
    "bdmo = pickle.load(open(\"./cache/tng100_bdmo.pkl\", \"rb\"))\n",
    "tdmo = pickle.load(open(\"./cache/tng100_tdmo.pkl\", \"rb\") )\n",
    "matches = pickle.load(open(\"./cache/matches.pkl\", \"rb\") )"
   ]
  },
  {
   "cell_type": "markdown",
   "id": "59df8159-4ee5-4a50-bcac-7d53643eb13e",
   "metadata": {},
   "source": [
    "# Preliminary Look at the data"
   ]
  },
  {
   "cell_type": "code",
   "execution_count": 17,
   "id": "4d9ab6f8-7056-4a93-8c68-5a21d93018dd",
   "metadata": {},
   "outputs": [
    {
     "data": {
      "text/plain": [
       "(array([2.097e+03, 1.099e+03, 4.840e+02, 2.070e+02, 9.000e+01, 3.600e+01,\n",
       "        1.300e+01, 4.000e+00, 1.000e+00, 7.000e+00]),\n",
       " array([11.50004768, 11.7939415 , 12.08783531, 12.38172817, 12.67562199,\n",
       "        12.9695158 , 13.26340961, 13.55730343, 13.85119629, 14.1450901 ,\n",
       "        14.43898392]),\n",
       " <BarContainer object of 10 artists>)"
      ]
     },
     "execution_count": 17,
     "metadata": {},
     "output_type": "execute_result"
    },
    {
     "data": {
      "image/png": "[encoded data removed]",
      "text/plain": [
       "<Figure size 640x480 with 1 Axes>"
      ]
     },
     "metadata": {},
     "output_type": "display_data"
    }
   ],
   "source": [
    "plt.hist(np.log10(bbar['mpeak_pre']))"
   ]
  },
  {
   "cell_type": "code",
   "execution_count": 14,
   "id": "45e1a82c-3916-44b8-b066-bd74abb11255",
   "metadata": {},
   "outputs": [
    {
     "name": "stdout",
     "output_type": "stream",
     "text": [
      "3240\n"
     ]
    },
    {
     "data": {
      "text/plain": [
       "(array([  2., 569., 934., 484., 291., 228., 179., 202., 152., 199.]),\n",
       " array([10.94937611, 11.30794334, 11.66651058, 12.02507782, 12.38364506,\n",
       "        12.7422123 , 13.10077858, 13.45934582, 13.81791306, 14.17648029,\n",
       "        14.53504753]),\n",
       " <BarContainer object of 10 artists>)"
      ]
     },
     "execution_count": 14,
     "metadata": {},
     "output_type": "execute_result"
    },
    {
     "data": {
      "image/png": "[encoded data removed]",
      "text/plain": [
       "<Figure size 640x480 with 1 Axes>"
      ]
     },
     "metadata": {},
     "output_type": "display_data"
    }
   ],
   "source": [
    "mvir = tbar['mvir'][:, -1] \n",
    "mvir = mvir[mvir > 0] \n",
    "print(len(mvir))\n",
    "plt.hist(np.log10(mvir))"
   ]
  },
  {
   "cell_type": "markdown",
   "id": "92b17e73-70df-46fc-9501-d7be3475663c",
   "metadata": {},
   "source": [
    "# Perform matching and look at trees"
   ]
  },
  {
   "cell_type": "code",
   "execution_count": 41,
   "id": "3f0d7533-a002-463e-bf67-c2466dde75cb",
   "metadata": {},
   "outputs": [
    {
     "data": {
      "text/plain": [
       "(4038, 19049, 4038, (19049, 100))"
      ]
     },
     "execution_count": 41,
     "metadata": {},
     "output_type": "execute_result"
    }
   ],
   "source": [
    "len(matches), len(tdmo), len(tbar), tdmo['mvir'].shape, "
   ]
  },
  {
   "cell_type": "code",
   "execution_count": 42,
   "id": "7adf2f8e-61ad-464d-b0e1-7ab7abcbaac1",
   "metadata": {},
   "outputs": [
    {
     "data": {
      "text/plain": [
       "0.8093115403665181"
      ]
     },
     "execution_count": 42,
     "metadata": {},
     "output_type": "execute_result"
    }
   ],
   "source": [
    "# percentage of matches (baryons\n",
    "len(matches[matches!=-1]) / len(matches) "
   ]
  },
  {
   "cell_type": "code",
   "execution_count": 43,
   "id": "fa8e5589-c72b-4b2e-a747-9b275ac86b42",
   "metadata": {
    "tags": []
   },
   "outputs": [
    {
     "name": "stderr",
     "output_type": "stream",
     "text": [
      "100%|██████████| 4038/4038 [00:00<00:00, 32895.03it/s]\n"
     ]
    }
   ],
   "source": [
    "# extract haloes and MAHs within given present-day mass range\n",
    "# with no errors, exist in present day and matches with DMO \n",
    "mah_dmo = [] \n",
    "mah_bar = []\n",
    "dmo_id = [] \n",
    "bar_id = []\n",
    "\n",
    "# questions: \n",
    "\n",
    "for ii in tqdm(range(len(tbar))):\n",
    "    match = matches[ii]\n",
    "    if match != -1: \n",
    "        \n",
    "        # TODO: TAKE mah upto infall snap and keep it constant after \n",
    "        \n",
    "        ok_dmo = ~bdmo['is_err'][match]\n",
    "        ok_bar = ~bbar['is_err'][ii]\n",
    "        \n",
    "        mvir_dmo = tdmo['mdm'][match]\n",
    "        mvir_bar = tbar['mdm'][ii]\n",
    "        assert mvir_dmo.shape == (100,)\n",
    "        dmo_mah = np.log10(mvir_dmo, out=np.zeros_like(mvir_dmo), where=(mvir_dmo!=0))\n",
    "        bar_mah = np.log10(mvir_bar, out=np.zeros_like(mvir_bar), where=(mvir_bar!=0))\n",
    "\n",
    "        # extract id (present)\n",
    "        dmo_subfind_id = tdmo['subfind_id'][match, -1]\n",
    "        bar_subfind_id = tbar['subfind_id'][ii, -1]\n",
    "\n",
    "        \n",
    "        # should also check if halo exists in present day\n",
    "        mpeak_pre_dmo = np.log10(bdmo['mpeak_pre'][match])\n",
    "        mpeak_pre_bar = np.log10(bbar['mpeak_pre'][ii])\n",
    "        \n",
    "        is_cut_dmo = (mpeak_pre_dmo > 11) & ( mpeak_pre_dmo < 12) & (tdmo['mvir'][match,-1] > 0)\n",
    "        is_cut_bar = (mpeak_pre_bar > 11) & ( mpeak_pre_bar < 12) & (tbar['mvir'][ii,-1] > 0)\n",
    "        \n",
    "        if ok_dmo & is_cut_dmo & ok_bar & is_cut_bar:\n",
    "            mah_dmo.append(dmo_mah)\n",
    "            mah_bar.append(bar_mah)\n",
    "            dmo_id.append(dmo_subfind_id)\n",
    "            bar_id.append(bar_subfind_id)\n",
    "\n"
   ]
  },
  {
   "cell_type": "code",
   "execution_count": 45,
   "id": "483e03e7-f010-41bd-8946-cb515146f8c0",
   "metadata": {},
   "outputs": [],
   "source": [
    "# Questions (April 25, 2024) \n",
    "# * Check the cuts I should be using? \n",
    "# * we need present mass to be non-zero right?"
   ]
  },
  {
   "cell_type": "code",
   "execution_count": 44,
   "id": "07e1d5d6-fb03-49d3-9d82-150c5ec35d44",
   "metadata": {},
   "outputs": [
    {
     "data": {
      "text/plain": [
       "((1707, 100), (1707, 100), (1707,), (1707,))"
      ]
     },
     "execution_count": 44,
     "metadata": {},
     "output_type": "execute_result"
    }
   ],
   "source": [
    "# stack them into arrays\n",
    "_mah_dmo = np.concatenate([m.reshape(1, 100) for m in mah_dmo], axis=0)\n",
    "_mah_bar = np.concatenate([m.reshape(1, 100) for m in mah_bar], axis=0)\n",
    "_dmo_id = np.array(dmo_id)\n",
    "_bar_id = np.array(bar_id)\n",
    "\n",
    "_mah_dmo.shape, _mah_bar.shape, _dmo_id.shape, _bar_id.shape"
   ]
  },
  {
   "cell_type": "code",
   "execution_count": 102,
   "id": "a00c020a-6ca0-4e49-ac89-c9df106caacf",
   "metadata": {},
   "outputs": [
    {
     "data": {
      "image/png": "[encoded data removed]",
      "text/plain": [
       "<Figure size 640x480 with 1 Axes>"
      ]
     },
     "metadata": {},
     "output_type": "display_data"
    }
   ],
   "source": [
    "# plot some random trees\n",
    "indices = np.random.choice(list(range(len(_mah_dmo))), size=10)\n",
    "for t in _mah_dmo[indices]:\n",
    "    plt.plot(t)\n",
    "\n",
    "# NOTES\n",
    "# * snapshots thart are valid are those with non-zero mass (subfind has problem where it can miss a snapshot)\n",
    "# * mass switches -->>> sudden rises, halo falls into a much larger halo and could become a splashback halo, in the next snapshot the central \n",
    "# host mass jump at merger time, could be Group_M_Top_Hat200; or mass switches\n",
    "# * what is the mass used? \n",
    "# 'mvir' -> group mass \n",
    "# 'mdm' -> subhalo mass\n",
    "# 'mpeak_pre' -> calculate from mvir ; prior to infall\n",
    "\n",
    "# keep mpeak what it was before infall\n",
    "\n",
    "# TODO: remove snapshots from trees where it falls to 0 or interpolate"
   ]
  },
  {
   "cell_type": "code",
   "execution_count": null,
   "id": "8ca05cdc-7b94-4293-b932-6ba6816397a6",
   "metadata": {},
   "outputs": [],
   "source": []
  },
  {
   "cell_type": "markdown",
   "id": "2f739f4a-92c8-49b7-8948-1955fb45d685",
   "metadata": {
    "jp-MarkdownHeadingCollapsed": true,
    "tags": []
   },
   "source": [
    "# Look at all MAHs and see if non-matches occupy some interesting space"
   ]
  },
  {
   "cell_type": "code",
   "execution_count": 46,
   "id": "9742488c-07a2-4c5c-9c00-7529b4720888",
   "metadata": {},
   "outputs": [],
   "source": [
    "# we can look at definitions of formation time"
   ]
  },
  {
   "cell_type": "code",
   "execution_count": 169,
   "id": "080729b4-dcb4-4cf7-a52a-a36528d2cab9",
   "metadata": {},
   "outputs": [
    {
     "data": {
      "text/plain": [
       "((4038, 100), (4038,))"
      ]
     },
     "execution_count": 169,
     "metadata": {},
     "output_type": "execute_result"
    }
   ],
   "source": [
    "mdm_bar = tbar['mdm']\n",
    "bar_mah = np.log10(mdm_bar, out=np.zeros_like(mdm_bar), where=(mdm_bar!=0))\n",
    "bar_mah.shape, matches.shape"
   ]
  },
  {
   "cell_type": "code",
   "execution_count": 144,
   "id": "4c7c9fad-1a42-4982-aa65-17b0e796a4da",
   "metadata": {},
   "outputs": [
    {
     "data": {
      "image/png": "[encoded data removed]",
      "text/plain": [
       "<Figure size 640x480 with 1 Axes>"
      ]
     },
     "metadata": {},
     "output_type": "display_data"
    }
   ],
   "source": [
    "# plot some random trees\n",
    "indices = np.random.choice(list(range(len(bar_mah))), size=10)\n",
    "for idx in indices:\n",
    "    t = bar_mah[idx]\n",
    "    is_match = matches[idx] != -1\n",
    "    plt.plot(t, color='b' if is_match else 'r')\n",
    "\n",
    "# NOTES"
   ]
  },
  {
   "cell_type": "code",
   "execution_count": 170,
   "id": "62245a5c-97ee-4b3b-a9e1-42e2a5bc1572",
   "metadata": {},
   "outputs": [
    {
     "name": "stdout",
     "output_type": "stream",
     "text": [
      "0.812962962962963 0.18703703703703703\n",
      "0.8093115403665181\n"
     ]
    }
   ],
   "source": [
    "# of present with matches and without matches\n",
    "is_present = bar_mah[:, -1] > 0\n",
    "is_match = matches != -1\n",
    "print(len(bar_mah[is_match & is_present]) / len(bar_mah[is_present]), len(bar_mah[~is_match & is_present]) / len(bar_mah[is_present]))\n",
    "print(len(bar_mah[is_match]) / len(bar_mah))\n",
    "# thus we can look just at haloes that 'are present' formation time to see if there is a bias in the MAHs based on selection."
   ]
  },
  {
   "cell_type": "code",
   "execution_count": 192,
   "id": "df1b351f-1738-4ab0-96b0-b1eb204486f7",
   "metadata": {},
   "outputs": [],
   "source": [
    "is_present = mdm_bar[:, -1] > 0\n",
    "mdm_bar_p = mdm_bar[is_present]\n",
    "form_snaps = [] \n",
    "for ii in range(len(mdm_bar_p)):\n",
    "    mah = mdm_bar_p[ii]\n",
    "    form_snaps.append(np.argwhere(mah > mah[-1] * 0.5)[0].item())\n",
    "\n",
    "\n",
    "form_snaps = np.array(form_snaps)"
   ]
  },
  {
   "cell_type": "code",
   "execution_count": 199,
   "id": "caa17f3d-7df9-406c-8612-9a971af42cf2",
   "metadata": {},
   "outputs": [
    {
     "data": {
      "image/png": "[encoded data removed]",
      "text/plain": [
       "<Figure size 640x480 with 1 Axes>"
      ]
     },
     "metadata": {},
     "output_type": "display_data"
    }
   ],
   "source": [
    "mask1 = (is_present & is_match)[is_present]\n",
    "mask2 = (is_present & ~is_match)[is_present]\n",
    "\n",
    "_, bins, _ = plt.hist(form_snaps[mask1], color='b', histtype='step', density=True) \n",
    "_, bins, _ = plt.hist(form_snaps[mask2], color='r', histtype='step', density=True) "
   ]
  },
  {
   "cell_type": "code",
   "execution_count": 196,
   "id": "bd2c02c9-cf4f-4007-8f0e-60e68830f654",
   "metadata": {},
   "outputs": [
    {
     "data": {
      "text/plain": [
       "(3240,)"
      ]
     },
     "execution_count": 196,
     "metadata": {},
     "output_type": "execute_result"
    }
   ],
   "source": []
  },
  {
   "cell_type": "code",
   "execution_count": 187,
   "id": "2e7ff443-ee4c-4c4a-ba04-6292f3408e5e",
   "metadata": {},
   "outputs": [
    {
     "data": {
      "text/plain": [
       "array([[17],\n",
       "       [18],\n",
       "       [19],\n",
       "       [20],\n",
       "       [21],\n",
       "       [22],\n",
       "       [23],\n",
       "       [24],\n",
       "       [25],\n",
       "       [26],\n",
       "       [27],\n",
       "       [28],\n",
       "       [29],\n",
       "       [30],\n",
       "       [31],\n",
       "       [32],\n",
       "       [33],\n",
       "       [34],\n",
       "       [35],\n",
       "       [36],\n",
       "       [37],\n",
       "       [38],\n",
       "       [39],\n",
       "       [40],\n",
       "       [41],\n",
       "       [42],\n",
       "       [43],\n",
       "       [44],\n",
       "       [45],\n",
       "       [46],\n",
       "       [47],\n",
       "       [48],\n",
       "       [49],\n",
       "       [50],\n",
       "       [51],\n",
       "       [52],\n",
       "       [53],\n",
       "       [54],\n",
       "       [55],\n",
       "       [56],\n",
       "       [57],\n",
       "       [58],\n",
       "       [59],\n",
       "       [60],\n",
       "       [61],\n",
       "       [62],\n",
       "       [63],\n",
       "       [64],\n",
       "       [65],\n",
       "       [66],\n",
       "       [67],\n",
       "       [68],\n",
       "       [69],\n",
       "       [70],\n",
       "       [71],\n",
       "       [72],\n",
       "       [73],\n",
       "       [74],\n",
       "       [75],\n",
       "       [76],\n",
       "       [77],\n",
       "       [78],\n",
       "       [79],\n",
       "       [80],\n",
       "       [81],\n",
       "       [82],\n",
       "       [83],\n",
       "       [84],\n",
       "       [85],\n",
       "       [86],\n",
       "       [87],\n",
       "       [88],\n",
       "       [89],\n",
       "       [90],\n",
       "       [91],\n",
       "       [92],\n",
       "       [93],\n",
       "       [94],\n",
       "       [95],\n",
       "       [96],\n",
       "       [97],\n",
       "       [98],\n",
       "       [99]])"
      ]
     },
     "execution_count": 187,
     "metadata": {},
     "output_type": "execute_result"
    }
   ],
   "source": [
    "mah1 = mdm_bar[is_present][5]\n",
    "assert mah1.shape == (100,)\n",
    "np.argwhere(mah1 > mah1[-1] * 0.5)"
   ]
  },
  {
   "cell_type": "code",
   "execution_count": 175,
   "id": "40b7ae67-dd4c-41a0-a7a7-d13c9461b2db",
   "metadata": {},
   "outputs": [
    {
     "data": {
      "text/plain": [
       "array([1.17810456e+08, 6.87677760e+08, 1.70387482e+09, 4.73894042e+09,\n",
       "       5.61760051e+09, 8.43949978e+09, 1.04275333e+10, 1.22142454e+10,\n",
       "       1.75386051e+10, 2.26577203e+10, 2.69076910e+10, 2.89923645e+10,\n",
       "       3.50372291e+10, 4.24045609e+10, 4.84032348e+10, 5.47068160e+09,\n",
       "       1.15985211e+11, 1.18485393e+11, 2.14845129e+11, 1.12115630e+11,\n",
       "       3.57706826e+11, 1.84546034e+11, 2.19787067e+11, 2.19153940e+11,\n",
       "       8.78215660e+10, 5.92456581e+10, 6.38257930e+10, 6.98682081e+10,\n",
       "       3.45652593e+10, 3.13512223e+10, 3.07477422e+10, 2.41003500e+10,\n",
       "       2.07944602e+10, 1.97649019e+10, 1.80823183e+10, 1.65039544e+10,\n",
       "       1.60895611e+10, 1.53595658e+10, 1.49167729e+10, 1.44470774e+10,\n",
       "       1.43678423e+10, 1.37600092e+10, 1.30349763e+10, 1.21566331e+10,\n",
       "       1.09843180e+10, 1.01491968e+10, 8.99558093e+09, 8.17354035e+09,\n",
       "       6.64692531e+09, 2.60450048e+09, 0.00000000e+00, 0.00000000e+00,\n",
       "       0.00000000e+00, 0.00000000e+00, 0.00000000e+00, 0.00000000e+00,\n",
       "       0.00000000e+00, 0.00000000e+00, 0.00000000e+00, 0.00000000e+00,\n",
       "       0.00000000e+00, 0.00000000e+00, 0.00000000e+00, 0.00000000e+00,\n",
       "       0.00000000e+00, 0.00000000e+00, 0.00000000e+00, 0.00000000e+00,\n",
       "       0.00000000e+00, 0.00000000e+00, 0.00000000e+00, 0.00000000e+00,\n",
       "       0.00000000e+00, 0.00000000e+00, 0.00000000e+00, 0.00000000e+00,\n",
       "       0.00000000e+00, 0.00000000e+00, 0.00000000e+00, 0.00000000e+00,\n",
       "       0.00000000e+00, 0.00000000e+00, 0.00000000e+00, 0.00000000e+00,\n",
       "       0.00000000e+00, 0.00000000e+00, 0.00000000e+00, 0.00000000e+00,\n",
       "       0.00000000e+00, 0.00000000e+00, 0.00000000e+00, 0.00000000e+00,\n",
       "       0.00000000e+00, 0.00000000e+00, 0.00000000e+00, 0.00000000e+00,\n",
       "       0.00000000e+00, 0.00000000e+00, 0.00000000e+00, 0.00000000e+00],\n",
       "      dtype=float32)"
      ]
     },
     "execution_count": 175,
     "metadata": {},
     "output_type": "execute_result"
    }
   ],
   "source": [
    "mah1"
   ]
  },
  {
   "cell_type": "code",
   "execution_count": null,
   "id": "0ae31954-0c0e-44fa-b599-74ff861509b7",
   "metadata": {},
   "outputs": [],
   "source": []
  },
  {
   "cell_type": "code",
   "execution_count": null,
   "id": "93914755-cc30-4f66-92c6-7923810769f5",
   "metadata": {},
   "outputs": [],
   "source": []
  },
  {
   "cell_type": "markdown",
   "id": "f74b50b7-2b9a-4237-9d1e-f8125f802161",
   "metadata": {},
   "source": [
    "# Add additinal information "
   ]
  },
  {
   "cell_type": "code",
   "execution_count": 200,
   "id": "0cb0e74e-7e13-4950-abd5-35a7b8c63882",
   "metadata": {},
   "outputs": [
    {
     "data": {
      "text/plain": [
       "array([ 31366,  31368,  31376, ..., 563783, 569305, 571094])"
      ]
     },
     "execution_count": 200,
     "metadata": {},
     "output_type": "execute_result"
    }
   ],
   "source": [
    "_bar_id"
   ]
  },
  {
   "cell_type": "markdown",
   "id": "66e19d3c-879d-4787-b923-eeed7533f0b6",
   "metadata": {},
   "source": [
    "# Read TNG Snapshots and combine information"
   ]
  },
  {
   "cell_type": "code",
   "execution_count": 12,
   "id": "d945971d-c2a5-4b85-adba-3811c56ed549",
   "metadata": {},
   "outputs": [],
   "source": [
    "# read tng snapshots\n",
    "snap1= \"/nfs/turbo/lsa-cavestru/imendoza/TNG10\""
   ]
  },
  {
   "cell_type": "code",
   "execution_count": 15,
   "id": "58a69f6e-aafd-42de-94bf-b95b348ee3b3",
   "metadata": {},
   "outputs": [],
   "source": [
    "import h5py\n",
    "f = h5py.File(snap1,'r')"
   ]
  },
  {
   "cell_type": "code",
   "execution_count": 30,
   "id": "a6edd493-6366-40a0-a3e3-8fe4ee898929",
   "metadata": {},
   "outputs": [
    {
     "data": {
      "text/plain": [
       "<KeysViewHDF5 ['Config', 'Header', 'Parameters', 'PartType0', 'PartType1', 'PartType3', 'PartType4', 'PartType5']>"
      ]
     },
     "execution_count": 30,
     "metadata": {},
     "output_type": "execute_result"
    }
   ],
   "source": [
    "f.keys()"
   ]
  },
  {
   "cell_type": "code",
   "execution_count": 42,
   "id": "f532b49e-b6fe-4356-a8a1-7b8dc619d025",
   "metadata": {},
   "outputs": [
    {
     "data": {
      "text/plain": [
       "<HDF5 group \"/Header\" (0 members)>"
      ]
     },
     "execution_count": 42,
     "metadata": {},
     "output_type": "execute_result"
    }
   ],
   "source": [
    "f['Header']"
   ]
  },
  {
   "cell_type": "code",
   "execution_count": 13,
   "id": "39983a22-9d16-4ce9-95f1-eb93c35c7b14",
   "metadata": {},
   "outputs": [
    {
     "ename": "ValueError",
     "evalue": "no table found in HDF5 group None",
     "output_type": "error",
     "traceback": [
      "\u001b[0;31m---------------------------------------------------------------------------\u001b[0m",
      "\u001b[0;31mValueError\u001b[0m                                Traceback (most recent call last)",
      "Cell \u001b[0;32mIn[13], line 2\u001b[0m\n\u001b[1;32m      1\u001b[0m \u001b[38;5;28;01mfrom\u001b[39;00m \u001b[38;5;21;01mastropy\u001b[39;00m\u001b[38;5;21;01m.\u001b[39;00m\u001b[38;5;21;01mio\u001b[39;00m\u001b[38;5;21;01m.\u001b[39;00m\u001b[38;5;21;01mmisc\u001b[39;00m\u001b[38;5;21;01m.\u001b[39;00m\u001b[38;5;21;01mhdf5\u001b[39;00m \u001b[38;5;28;01mimport\u001b[39;00m read_table_hdf5\n\u001b[0;32m----> 2\u001b[0m \u001b[43mread_table_hdf5\u001b[49m\u001b[43m(\u001b[49m\u001b[43msnap1\u001b[49m\u001b[43m)\u001b[49m\n",
      "File \u001b[0;32m/sw/pkgs/arc/python3.10-anaconda/2023.03/lib/python3.10/site-packages/astropy/io/misc/hdf5.py:143\u001b[0m, in \u001b[0;36mread_table_hdf5\u001b[0;34m(input, path, character_as_bytes)\u001b[0m\n\u001b[1;32m    140\u001b[0m f \u001b[38;5;241m=\u001b[39m h5py\u001b[38;5;241m.\u001b[39mFile(\u001b[38;5;28minput\u001b[39m, \u001b[38;5;124m'\u001b[39m\u001b[38;5;124mr\u001b[39m\u001b[38;5;124m'\u001b[39m)\n\u001b[1;32m    142\u001b[0m \u001b[38;5;28;01mtry\u001b[39;00m:\n\u001b[0;32m--> 143\u001b[0m     \u001b[38;5;28;01mreturn\u001b[39;00m \u001b[43mread_table_hdf5\u001b[49m\u001b[43m(\u001b[49m\u001b[43mf\u001b[49m\u001b[43m,\u001b[49m\u001b[43m \u001b[49m\u001b[43mpath\u001b[49m\u001b[38;5;241;43m=\u001b[39;49m\u001b[43mpath\u001b[49m\u001b[43m,\u001b[49m\u001b[43m \u001b[49m\u001b[43mcharacter_as_bytes\u001b[49m\u001b[38;5;241;43m=\u001b[39;49m\u001b[43mcharacter_as_bytes\u001b[49m\u001b[43m)\u001b[49m\n\u001b[1;32m    144\u001b[0m \u001b[38;5;28;01mfinally\u001b[39;00m:\n\u001b[1;32m    145\u001b[0m     f\u001b[38;5;241m.\u001b[39mclose()\n",
      "File \u001b[0;32m/sw/pkgs/arc/python3.10-anaconda/2023.03/lib/python3.10/site-packages/astropy/io/misc/hdf5.py:116\u001b[0m, in \u001b[0;36mread_table_hdf5\u001b[0;34m(input, path, character_as_bytes)\u001b[0m\n\u001b[1;32m    113\u001b[0m arrays \u001b[38;5;241m=\u001b[39m _find_all_structured_arrays(\u001b[38;5;28minput\u001b[39m)\n\u001b[1;32m    115\u001b[0m \u001b[38;5;28;01mif\u001b[39;00m \u001b[38;5;28mlen\u001b[39m(arrays) \u001b[38;5;241m==\u001b[39m \u001b[38;5;241m0\u001b[39m:\n\u001b[0;32m--> 116\u001b[0m     \u001b[38;5;28;01mraise\u001b[39;00m \u001b[38;5;167;01mValueError\u001b[39;00m(\u001b[38;5;124mf\u001b[39m\u001b[38;5;124m\"\u001b[39m\u001b[38;5;124mno table found in HDF5 group \u001b[39m\u001b[38;5;132;01m{\u001b[39;00mpath\u001b[38;5;132;01m}\u001b[39;00m\u001b[38;5;124m\"\u001b[39m)\n\u001b[1;32m    117\u001b[0m \u001b[38;5;28;01melif\u001b[39;00m \u001b[38;5;28mlen\u001b[39m(arrays) \u001b[38;5;241m>\u001b[39m \u001b[38;5;241m0\u001b[39m:\n\u001b[1;32m    118\u001b[0m     path \u001b[38;5;241m=\u001b[39m arrays[\u001b[38;5;241m0\u001b[39m] \u001b[38;5;28;01mif\u001b[39;00m path \u001b[38;5;129;01mis\u001b[39;00m \u001b[38;5;28;01mNone\u001b[39;00m \u001b[38;5;28;01melse\u001b[39;00m path \u001b[38;5;241m+\u001b[39m \u001b[38;5;124m'\u001b[39m\u001b[38;5;124m/\u001b[39m\u001b[38;5;124m'\u001b[39m \u001b[38;5;241m+\u001b[39m arrays[\u001b[38;5;241m0\u001b[39m]\n",
      "\u001b[0;31mValueError\u001b[0m: no table found in HDF5 group None"
     ]
    }
   ],
   "source": [
    "from astropy.io.misc.hdf5 import read_table_hdf5\n",
    "read_table_hdf5(snap1)"
   ]
  },
  {
   "cell_type": "code",
   "execution_count": null,
   "id": "ed0abd9d-edb1-4a2d-bdfe-ee9dba3100aa",
   "metadata": {},
   "outputs": [],
   "source": [
    "Table.re"
   ]
  },
  {
   "cell_type": "code",
   "execution_count": 56,
   "id": "53ea3a17-ed3f-4a30-8116-c1fbba946ad9",
   "metadata": {},
   "outputs": [
    {
     "data": {
      "text/plain": [
       "145"
      ]
     },
     "execution_count": 58,
     "metadata": {},
     "output_type": "execute_result"
    }
   ],
   "source": [
    "len(dmo_id)"
   ]
  },
  {
   "cell_type": "code",
   "execution_count": 52,
   "id": "e1a0526c-0e1d-4c24-ac74-5d33238ad2b2",
   "metadata": {},
   "outputs": [
    {
     "data": {
      "text/plain": [
       "(307653, 813083)"
      ]
     },
     "execution_count": 52,
     "metadata": {},
     "output_type": "execute_result"
    }
   ],
   "source": [
    "sum(matches!=-1), len(matches)"
   ]
  },
  {
   "cell_type": "code",
   "execution_count": 45,
   "id": "17f3929e-c1dd-48af-8a50-b03dbb66d69c",
   "metadata": {},
   "outputs": [
    {
     "name": "stderr",
     "output_type": "stream",
     "text": [
      "/tmp/ipykernel_1143108/3116376147.py:2: RuntimeWarning: divide by zero encountered in log10\n",
      "  sum((mvir>0) & (np.log10(bdmo['mpeak_pre']) > 11) & (np.log10(bdmo['mpeak_pre']) < 12) & (~bdmo['is_err']))\n"
     ]
    },
    {
     "data": {
      "text/plain": [
       "1795"
      ]
     },
     "execution_count": 45,
     "metadata": {},
     "output_type": "execute_result"
    }
   ],
   "source": [
    "mvir = tdmo['mvir'][:, -1]\n",
    "sum((mvir>0) & (np.log10(bdmo['mpeak_pre']) > 11) & (np.log10(bdmo['mpeak_pre']) < 12) & (~bdmo['is_err']))"
   ]
  },
  {
   "cell_type": "code",
   "execution_count": 53,
   "id": "1cc239d7-b98e-4239-9941-f41140d3671c",
   "metadata": {},
   "outputs": [
    {
     "name": "stderr",
     "output_type": "stream",
     "text": [
      "/tmp/ipykernel_1143108/959766558.py:2: RuntimeWarning: divide by zero encountered in log10\n",
      "  sum((mvir>0) & (np.log10(bbar['mpeak_pre']) > 11) & (np.log10(bbar['mpeak_pre']) < 12) & (~bbar['is_err']) &(matches!=-1))\n"
     ]
    },
    {
     "data": {
      "text/plain": [
       "1538"
      ]
     },
     "execution_count": 53,
     "metadata": {},
     "output_type": "execute_result"
    }
   ],
   "source": [
    "mvir = tbar['mvir'][:, -1]\n",
    "sum((mvir>0) & (np.log10(bbar['mpeak_pre']) > 11) & (np.log10(bbar['mpeak_pre']) < 12) & (~bbar['is_err']) &(matches!=-1))"
   ]
  },
  {
   "cell_type": "code",
   "execution_count": 8,
   "id": "32e296f6-3659-4db8-96a4-b3fe3d6f4f3a",
   "metadata": {},
   "outputs": [],
   "source": [
    "host_bar = np.argmax(bbar[\"mpeak\"])\n"
   ]
  },
  {
   "cell_type": "code",
   "execution_count": 11,
   "id": "72201bea-7c87-4624-9a64-c2a3bc0dd392",
   "metadata": {},
   "outputs": [
    {
     "data": {
      "text/plain": [
       "(813083,)"
      ]
     },
     "execution_count": 11,
     "metadata": {},
     "output_type": "execute_result"
    }
   ],
   "source": [
    "bbar['mpeak'].shape"
   ]
  },
  {
   "cell_type": "code",
   "execution_count": 7,
   "id": "c166d310-80ed-488a-8819-42ff263526e3",
   "metadata": {},
   "outputs": [
    {
     "data": {
      "text/plain": [
       "((760824,), (760824, 100), (813083,), (813083,), (813083, 100))"
      ]
     },
     "execution_count": 7,
     "metadata": {},
     "output_type": "execute_result"
    }
   ],
   "source": [
    "bdmo['mpeak_pre'].shape, tdmo['mvir'].shape, matches.shape, bbar['mpeak_pre'].shape, tbar['mvir'].shape"
   ]
  },
  {
   "cell_type": "code",
   "execution_count": 6,
   "id": "da4dbf04-7721-4813-960d-df811b159ede",
   "metadata": {},
   "outputs": [
    {
     "data": {
      "text/plain": [
       "array([6841,   -1,   -1, ...,   -1,   -1,   -1])"
      ]
     },
     "execution_count": 6,
     "metadata": {},
     "output_type": "execute_result"
    }
   ],
   "source": [
    "matches"
   ]
  },
  {
   "cell_type": "code",
   "execution_count": 35,
   "id": "3bb42e13-8e63-40aa-936a-aa019390e689",
   "metadata": {},
   "outputs": [
    {
     "data": {
      "text/plain": [
       "(100,)"
      ]
     },
     "execution_count": 35,
     "metadata": {},
     "output_type": "execute_result"
    }
   ],
   "source": [
    "tdmo['mvir'][10].shape"
   ]
  },
  {
   "cell_type": "code",
   "execution_count": 37,
   "id": "f790595c-5b7f-4583-bad4-9927411f0be5",
   "metadata": {},
   "outputs": [
    {
     "name": "stderr",
     "output_type": "stream",
     "text": [
      "/tmp/ipykernel_1886444/4269425887.py:1: RuntimeWarning: divide by zero encountered in log10\n",
      "  plt.plot(np.log10(tdmo['mvir'][200]))\n"
     ]
    },
    {
     "data": {
      "text/plain": [
       "[<matplotlib.lines.Line2D at 0x1490d0f5b790>]"
      ]
     },
     "execution_count": 37,
     "metadata": {},
     "output_type": "execute_result"
    },
    {
     "data": {
      "image/png": "[encoded data removed]",
      "text/plain": [
       "<Figure size 640x480 with 1 Axes>"
      ]
     },
     "metadata": {},
     "output_type": "display_data"
    }
   ],
   "source": [
    "plt.plot(np.log10(tdmo['mvir'][200]))"
   ]
  },
  {
   "cell_type": "code",
   "execution_count": 15,
   "id": "76e26e24-4bd2-4a0a-a5eb-6fb74e6a97e7",
   "metadata": {},
   "outputs": [],
   "source": [
    "mpeak_pre = bdmo['mpeak_pre'] "
   ]
  },
  {
   "cell_type": "code",
   "execution_count": 30,
   "id": "ecb701c7-0e4a-43c0-8ab1-ded7e27eb4e9",
   "metadata": {},
   "outputs": [
    {
     "data": {
      "image/png": "[encoded data removed]",
      "text/plain": [
       "<Figure size 640x480 with 1 Axes>"
      ]
     },
     "metadata": {},
     "output_type": "display_data"
    }
   ],
   "source": [
    "_mpeak_pre = np.log10(mpeak_pre[mpeak_pre > 0])\n",
    "plt.hist(_mpeak_pre)\n",
    "plt.yscale('log')"
   ]
  },
  {
   "cell_type": "code",
   "execution_count": 26,
   "id": "3019e66d-413c-42f8-b58b-a7b529289ea0",
   "metadata": {},
   "outputs": [
    {
     "data": {
      "text/plain": [
       "513575904.0"
      ]
     },
     "execution_count": 26,
     "metadata": {},
     "output_type": "execute_result"
    }
   ],
   "source": [
    "np.percentile(mpeak_pre, 20)"
   ]
  },
  {
   "cell_type": "code",
   "execution_count": null,
   "id": "99f6e184-b882-4aa2-b05a-5f1c8f68d1f9",
   "metadata": {},
   "outputs": [],
   "source": []
  }
 ],
 "metadata": {
  "kernelspec": {
   "display_name": "Python 3 (ipykernel)",
   "language": "python",
   "name": "python3"
  },
  "language_info": {
   "codemirror_mode": {
    "name": "ipython",
    "version": 3
   },
   "file_extension": ".py",
   "mimetype": "text/x-python",
   "name": "python",
   "nbconvert_exporter": "python",
   "pygments_lexer": "ipython3",
   "version": "3.10.9"
  }
 },
 "nbformat": 4,
 "nbformat_minor": 5
}
